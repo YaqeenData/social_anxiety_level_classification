{
 "cells": [
  {
   "cell_type": "markdown",
   "id": "e40f1b6a",
   "metadata": {
    "papermill": {
     "duration": 0.002003,
     "end_time": "2025-07-24T14:34:09.987412",
     "exception": false,
     "start_time": "2025-07-24T14:34:09.985409",
     "status": "completed"
    },
    "tags": []
   },
   "source": [
    "<center><h1>Social Anxiety Level Classification Project</h1></center>"
   ]
  },
  {
   "cell_type": "markdown",
   "id": "98a23e69",
   "metadata": {
    "papermill": {
     "duration": 0.001328,
     "end_time": "2025-07-24T14:34:09.990387",
     "exception": false,
     "start_time": "2025-07-24T14:34:09.989059",
     "status": "completed"
    },
    "tags": []
   },
   "source": [
    "<center>\n",
    "  <img src=\"https://i.pinimg.com/736x/ef/68/79/ef687925611c2a5abc1afcdd5bfb7659.jpg\" \n",
    "       style=\"max-width:30%; border-radius:10px;\">\n",
    "</center>"
   ]
  },
  {
   "cell_type": "markdown",
   "id": "ec107b2e",
   "metadata": {
    "papermill": {
     "duration": 0.001103,
     "end_time": "2025-07-24T14:34:09.992857",
     "exception": false,
     "start_time": "2025-07-24T14:34:09.991754",
     "status": "completed"
    },
    "tags": []
   },
   "source": [
    "<p style=\"text-align: justify; font-size:18px;\">According to the National Institute of Mental Health (NIH), social anxiety is a common type of anxiety disorder. People suffering from social anxiety exhibit various symptoms, including and not limited to: sweating, trempling, rapid heart rate, and/or  feeling their brain goes blank during situations when they might be evaluated or judged by others.</p>\n",
    "<p style=\"text-align: justify; font-size:18px;\">\n",
    "    This project is part of the Supervised Machine Learning: Classification course within the  <span style=\"font-weight: bold;\">IBM Machine Learning Professional Certificate.</span> It focuses on building and evaluating models to classify social anxiety levels \n",
    "</p>\n",
    "<p style=\"text-align: justify; font-size:18px;\">\n",
    "    The goal of this project is to apply classification techniques to accurately predict social anxiety levels, aiding in better understanding and identification of individuals who may benefit from further intervention.\n",
    "<br/>\n",
    "Throughout this notebook, you will find data exploration, preprocessing, model training, evaluation, and interpretation of results related to social anxiety classification.\n",
    "</p>\n"
   ]
  },
  {
   "cell_type": "code",
   "execution_count": 1,
   "id": "1e3e2f4e",
   "metadata": {
    "_cell_guid": "b1076dfc-b9ad-4769-8c92-a6c4dae69d19",
    "_uuid": "8f2839f25d086af736a60e9eeb907d3b93b6e0e5",
    "execution": {
     "iopub.execute_input": "2025-07-24T14:34:09.997382Z",
     "iopub.status.busy": "2025-07-24T14:34:09.996548Z",
     "iopub.status.idle": "2025-07-24T14:34:11.609169Z",
     "shell.execute_reply": "2025-07-24T14:34:11.608301Z"
    },
    "papermill": {
     "duration": 1.616338,
     "end_time": "2025-07-24T14:34:11.610525",
     "exception": false,
     "start_time": "2025-07-24T14:34:09.994187",
     "status": "completed"
    },
    "tags": []
   },
   "outputs": [
    {
     "name": "stdout",
     "output_type": "stream",
     "text": [
      "/kaggle/input/social-anxiety-dataset/family_anxiety_14_dataset.csv\n",
      "/kaggle/input/social-anxiety-dataset/enhanced_anxiety_dataset.csv\n"
     ]
    }
   ],
   "source": [
    "import numpy as np \n",
    "import pandas as pd \n",
    "\n",
    "\n",
    "\n",
    "import os\n",
    "for dirname, _, filenames in os.walk('/kaggle/input'):\n",
    "    for filename in filenames:\n",
    "        print(os.path.join(dirname, filename))"
   ]
  },
  {
   "cell_type": "code",
   "execution_count": null,
   "id": "18c2e139",
   "metadata": {
    "papermill": {
     "duration": 0.001355,
     "end_time": "2025-07-24T14:34:11.613595",
     "exception": false,
     "start_time": "2025-07-24T14:34:11.612240",
     "status": "completed"
    },
    "tags": []
   },
   "outputs": [],
   "source": []
  }
 ],
 "metadata": {
  "kaggle": {
   "accelerator": "none",
   "dataSources": [
    {
     "datasetId": 6931996,
     "sourceId": 11117616,
     "sourceType": "datasetVersion"
    }
   ],
   "dockerImageVersionId": 31089,
   "isGpuEnabled": false,
   "isInternetEnabled": true,
   "language": "python",
   "sourceType": "notebook"
  },
  "kernelspec": {
   "display_name": "Python 3",
   "language": "python",
   "name": "python3"
  },
  "language_info": {
   "codemirror_mode": {
    "name": "ipython",
    "version": 3
   },
   "file_extension": ".py",
   "mimetype": "text/x-python",
   "name": "python",
   "nbconvert_exporter": "python",
   "pygments_lexer": "ipython3",
   "version": "3.11.13"
  },
  "papermill": {
   "default_parameters": {},
   "duration": 6.5155,
   "end_time": "2025-07-24T14:34:12.133468",
   "environment_variables": {},
   "exception": null,
   "input_path": "__notebook__.ipynb",
   "output_path": "__notebook__.ipynb",
   "parameters": {},
   "start_time": "2025-07-24T14:34:05.617968",
   "version": "2.6.0"
  }
 },
 "nbformat": 4,
 "nbformat_minor": 5
}
