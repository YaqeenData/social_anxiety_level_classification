{
 "cells": [
  {
   "cell_type": "markdown",
   "id": "aae9be16",
   "metadata": {
    "papermill": {
     "duration": 0.00816,
     "end_time": "2025-07-24T19:09:58.074496",
     "exception": false,
     "start_time": "2025-07-24T19:09:58.066336",
     "status": "completed"
    },
    "tags": []
   },
   "source": [
    "<center><h1>Social Anxiety Level Classification Project 🧠📊</h1></center>"
   ]
  },
  {
   "cell_type": "markdown",
   "id": "3e6f7e1e",
   "metadata": {
    "papermill": {
     "duration": 0.00731,
     "end_time": "2025-07-24T19:09:58.090548",
     "exception": false,
     "start_time": "2025-07-24T19:09:58.083238",
     "status": "completed"
    },
    "tags": []
   },
   "source": [
    "<center>\n",
    "  <img src=\"https://i.pinimg.com/736x/ef/68/79/ef687925611c2a5abc1afcdd5bfb7659.jpg\" \n",
    "       style=\"max-width:30%; border-radius:10px;\">\n",
    "</center>"
   ]
  },
  {
   "cell_type": "markdown",
   "id": "ec4ea745",
   "metadata": {
    "papermill": {
     "duration": 0.006773,
     "end_time": "2025-07-24T19:09:58.104390",
     "exception": false,
     "start_time": "2025-07-24T19:09:58.097617",
     "status": "completed"
    },
    "tags": []
   },
   "source": [
    "<p style=\"text-align: justify; font-size:18px;\">According to the National Institute of Mental Health (NIH), social anxiety is a common type of anxiety disorder. People suffering from social anxiety exhibit various symptoms, including and not limited to: sweating, trempling, rapid heart rate, and/or  feeling their brain goes blank during situations when they might be evaluated or judged by others.</p>\n",
    "<p style=\"text-align: justify; font-size:18px;\">\n",
    "    This project is part of the Supervised Machine Learning: Classification course within the  <span style=\"font-weight: bold;\">IBM Machine Learning Professional Certificate.</span> It focuses on building and evaluating models to classify social anxiety levels \n",
    "</p>\n",
    "<p style=\"text-align: justify; font-size:18px;\">\n",
    "    The goal of this project is to apply classification techniques to accurately predict social anxiety levels, aiding in better understanding and identification of individuals who may benefit from further intervention.\n",
    "<br/>\n",
    "Throughout this notebook, you will find data exploration, preprocessing, model training, evaluation, and interpretation of results related to social anxiety classification.\n",
    "</p>\n"
   ]
  },
  {
   "cell_type": "markdown",
   "id": "51dd9c03",
   "metadata": {
    "papermill": {
     "duration": 0.006555,
     "end_time": "2025-07-24T19:09:58.118755",
     "exception": false,
     "start_time": "2025-07-24T19:09:58.112200",
     "status": "completed"
    },
    "tags": []
   },
   "source": [
    "# Dataset Descritpion\n",
    "\n"
   ]
  },
  {
   "cell_type": "markdown",
   "id": "32e35874",
   "metadata": {
    "papermill": {
     "duration": 0.007181,
     "end_time": "2025-07-24T19:09:58.133528",
     "exception": false,
     "start_time": "2025-07-24T19:09:58.126347",
     "status": "completed"
    },
    "tags": []
   },
   "source": [
    "This dataset was created using real-world survey responses and observational research focused on behavioral and psychological factors linked to social anxiety. It is obtained from @natezhang123 , @xipeng, and @docxian on Kaggle.\n",
    "\n",
    "**Disclaimer (as stated by the dataset authors):**  \n",
    "The dataset is intended for educational and research purposes only. It should not be used for clinical diagnosis or treatment.\n",
    "\n",
    "**Note:**  \n",
    "This project is conducted solely for educational purposes. It is not intended to be used for professional or clinical decision-making."
   ]
  },
  {
   "cell_type": "markdown",
   "id": "f2419b1e",
   "metadata": {
    "papermill": {
     "duration": 0.006439,
     "end_time": "2025-07-24T19:09:58.147123",
     "exception": false,
     "start_time": "2025-07-24T19:09:58.140684",
     "status": "completed"
    },
    "tags": []
   },
   "source": [
    "### Features: \n",
    "\n",
    "#### Demographics:\n",
    "* <span style=\"font-weight: bold;\">Age:</span> the patien's age in years.\n",
    "* <span style=\"font-weight: bold;\">Gender:</span> Female, Male, and Other.\n",
    "* <span style=\"font-weight: bold;\">Occupation:</span> the patient's job.\n",
    "\n",
    "#### Lifestyle:\n",
    "* <span style=\"font-weight: bold;\">Sleep Hours:</span> Number of hours a patient sleeps in a day.\n",
    "* <span style=\"font-weight: bold;\">Physical Activity:</span> Number of active hours per week\n",
    "* <span style=\"font-weight: bold;\">Caffeine intake:</span> Daily caffeine intake measured in milligram.\n",
    "* <span style=\"font-weight: bold;\">Alchol Consumption:</span> Number of drinks per week.\n",
    "* <span style=\"font-weight: bold;\">Smoking:</span> Indicates if the patient smokes.\n",
    "* <span style=\"font-weight: bold;\">Diet Quality:</span> Patient's diet quality level on a scale of 1 to 10, where 1 represent low-quality diet and 10 represents high-quality diet.\n",
    "\n",
    "#### Mental Health History:\n",
    "* <span style=\"font-weight: bold;\">Family History of Anxiety:</span> Presence of anxiety in family medical history.\n",
    "* <span style=\"font-weight: bold;\">Medication:</span> Indicates whether the patient takes medication.\n",
    "* <span style=\"font-weight: bold;\">Therapy Sessions:</span> Number of therapy sessions a patient attends in a month.\n",
    "*  <span style=\"font-weight: bold;\">Medication:</span>\n",
    "  \n",
    "#### Health & Mental Indicators:\n",
    "* <span style=\"font-weight: bold;\">Street Level:</span> Patient's stress level on a scale of 1 to 10, where 1 represents low stress and 10 represents high stress.\n",
    "* <span style=\"font-weight: bold;\">Heart Rate (BPM):</span> Patient's heart rate in beats per minute.\n",
    "* <span style=\"font-weight: bold;\">Breating Rate:</span> Patient's breating rate measured in number of breaths per minute.\n",
    "* <span style=\"font-weight: bold;\">Sweating Level:</span> Patient's sweating level on a scale of 1 to 5.\n",
    "* <span style=\"font-weight: bold;\">Dizziniess:</span> Indicates whether the patient experiences dizziness.\n",
    "\n",
    "#### Life Events:\n",
    "* <span style=\"font-weight: bold;\">Recent Major Life Event:</span>  Indicates whether the patient has experienced a major life event recently.\n",
    "\n",
    "#### Target Variable\n",
    "* <span style=\"font-weight: bold;\">Anxiety Level:</span> Represents the severity of the patient’s social anxiety on a 1–10 scale."
   ]
  },
  {
   "cell_type": "markdown",
   "id": "d0702985",
   "metadata": {
    "papermill": {
     "duration": 0.006199,
     "end_time": "2025-07-24T19:09:58.160554",
     "exception": false,
     "start_time": "2025-07-24T19:09:58.154355",
     "status": "completed"
    },
    "tags": []
   },
   "source": [
    "# Importing necessary libraries"
   ]
  },
  {
   "cell_type": "code",
   "execution_count": 1,
   "id": "b8eb2bd3",
   "metadata": {
    "_cell_guid": "b1076dfc-b9ad-4769-8c92-a6c4dae69d19",
    "_uuid": "8f2839f25d086af736a60e9eeb907d3b93b6e0e5",
    "execution": {
     "iopub.execute_input": "2025-07-24T19:09:58.175089Z",
     "iopub.status.busy": "2025-07-24T19:09:58.174705Z",
     "iopub.status.idle": "2025-07-24T19:10:03.622876Z",
     "shell.execute_reply": "2025-07-24T19:10:03.621768Z"
    },
    "papermill": {
     "duration": 5.457469,
     "end_time": "2025-07-24T19:10:03.624510",
     "exception": false,
     "start_time": "2025-07-24T19:09:58.167041",
     "status": "completed"
    },
    "tags": []
   },
   "outputs": [],
   "source": [
    "import numpy as np \n",
    "import pandas as pd \n",
    "import matplotlib.pyplot as plt\n",
    "import seaborn as sns\n",
    "from sklearn.model_selection import train_test_split"
   ]
  },
  {
   "cell_type": "markdown",
   "id": "a7315a45",
   "metadata": {
    "papermill": {
     "duration": 0.007813,
     "end_time": "2025-07-24T19:10:03.639802",
     "exception": false,
     "start_time": "2025-07-24T19:10:03.631989",
     "status": "completed"
    },
    "tags": []
   },
   "source": [
    "# Loading data"
   ]
  },
  {
   "cell_type": "code",
   "execution_count": 2,
   "id": "c117b08b",
   "metadata": {
    "execution": {
     "iopub.execute_input": "2025-07-24T19:10:03.656488Z",
     "iopub.status.busy": "2025-07-24T19:10:03.655955Z",
     "iopub.status.idle": "2025-07-24T19:10:03.668170Z",
     "shell.execute_reply": "2025-07-24T19:10:03.666553Z"
    },
    "papermill": {
     "duration": 0.023007,
     "end_time": "2025-07-24T19:10:03.670572",
     "exception": false,
     "start_time": "2025-07-24T19:10:03.647565",
     "status": "completed"
    },
    "tags": []
   },
   "outputs": [
    {
     "name": "stdout",
     "output_type": "stream",
     "text": [
      "/kaggle/input/social-anxiety-dataset/family_anxiety_14_dataset.csv\n",
      "/kaggle/input/social-anxiety-dataset/enhanced_anxiety_dataset.csv\n"
     ]
    }
   ],
   "source": [
    "import os\n",
    "for dirname, _, filenames in os.walk('/kaggle/input'):\n",
    "    for filename in filenames:\n",
    "        print(os.path.join(dirname, filename))"
   ]
  },
  {
   "cell_type": "code",
   "execution_count": 3,
   "id": "8db92c50",
   "metadata": {
    "execution": {
     "iopub.execute_input": "2025-07-24T19:10:03.687283Z",
     "iopub.status.busy": "2025-07-24T19:10:03.686774Z",
     "iopub.status.idle": "2025-07-24T19:10:03.753990Z",
     "shell.execute_reply": "2025-07-24T19:10:03.752944Z"
    },
    "papermill": {
     "duration": 0.076749,
     "end_time": "2025-07-24T19:10:03.755611",
     "exception": false,
     "start_time": "2025-07-24T19:10:03.678862",
     "status": "completed"
    },
    "tags": []
   },
   "outputs": [],
   "source": [
    "df = pd.read_csv('/kaggle/input/social-anxiety-dataset/enhanced_anxiety_dataset.csv')"
   ]
  },
  {
   "cell_type": "markdown",
   "id": "18128c59",
   "metadata": {
    "papermill": {
     "duration": 0.006739,
     "end_time": "2025-07-24T19:10:03.769827",
     "exception": false,
     "start_time": "2025-07-24T19:10:03.763088",
     "status": "completed"
    },
    "tags": []
   },
   "source": [
    "# 🗂️ Data Profiling  "
   ]
  },
  {
   "cell_type": "code",
   "execution_count": 4,
   "id": "cd542300",
   "metadata": {
    "execution": {
     "iopub.execute_input": "2025-07-24T19:10:03.784386Z",
     "iopub.status.busy": "2025-07-24T19:10:03.784067Z",
     "iopub.status.idle": "2025-07-24T19:10:03.790706Z",
     "shell.execute_reply": "2025-07-24T19:10:03.789893Z"
    },
    "papermill": {
     "duration": 0.015703,
     "end_time": "2025-07-24T19:10:03.792236",
     "exception": false,
     "start_time": "2025-07-24T19:10:03.776533",
     "status": "completed"
    },
    "tags": []
   },
   "outputs": [
    {
     "data": {
      "text/plain": [
       "(11000, 19)"
      ]
     },
     "execution_count": 4,
     "metadata": {},
     "output_type": "execute_result"
    }
   ],
   "source": [
    "# count of patients and features\n",
    "df.shape"
   ]
  },
  {
   "cell_type": "markdown",
   "id": "21e83980",
   "metadata": {
    "papermill": {
     "duration": 0.006627,
     "end_time": "2025-07-24T19:10:03.805967",
     "exception": false,
     "start_time": "2025-07-24T19:10:03.799340",
     "status": "completed"
    },
    "tags": []
   },
   "source": [
    "## 1. Getting an overview of the dataset\n",
    "<p style=\"font-size: 16px;\">Categorical features need to be encoded</p>"
   ]
  },
  {
   "cell_type": "code",
   "execution_count": 5,
   "id": "81ddacd8",
   "metadata": {
    "execution": {
     "iopub.execute_input": "2025-07-24T19:10:03.820710Z",
     "iopub.status.busy": "2025-07-24T19:10:03.820366Z",
     "iopub.status.idle": "2025-07-24T19:10:03.862627Z",
     "shell.execute_reply": "2025-07-24T19:10:03.861545Z"
    },
    "papermill": {
     "duration": 0.05182,
     "end_time": "2025-07-24T19:10:03.864538",
     "exception": false,
     "start_time": "2025-07-24T19:10:03.812718",
     "status": "completed"
    },
    "tags": []
   },
   "outputs": [
    {
     "name": "stdout",
     "output_type": "stream",
     "text": [
      "<class 'pandas.core.frame.DataFrame'>\n",
      "RangeIndex: 11000 entries, 0 to 10999\n",
      "Data columns (total 19 columns):\n",
      " #   Column                             Non-Null Count  Dtype  \n",
      "---  ------                             --------------  -----  \n",
      " 0   Age                                11000 non-null  int64  \n",
      " 1   Gender                             11000 non-null  object \n",
      " 2   Occupation                         11000 non-null  object \n",
      " 3   Sleep Hours                        11000 non-null  float64\n",
      " 4   Physical Activity (hrs/week)       11000 non-null  float64\n",
      " 5   Caffeine Intake (mg/day)           11000 non-null  int64  \n",
      " 6   Alcohol Consumption (drinks/week)  11000 non-null  int64  \n",
      " 7   Smoking                            11000 non-null  object \n",
      " 8   Family History of Anxiety          11000 non-null  object \n",
      " 9   Stress Level (1-10)                11000 non-null  int64  \n",
      " 10  Heart Rate (bpm)                   11000 non-null  int64  \n",
      " 11  Breathing Rate (breaths/min)       11000 non-null  int64  \n",
      " 12  Sweating Level (1-5)               11000 non-null  int64  \n",
      " 13  Dizziness                          11000 non-null  object \n",
      " 14  Medication                         11000 non-null  object \n",
      " 15  Therapy Sessions (per month)       11000 non-null  int64  \n",
      " 16  Recent Major Life Event            11000 non-null  object \n",
      " 17  Diet Quality (1-10)                11000 non-null  int64  \n",
      " 18  Anxiety Level (1-10)               11000 non-null  float64\n",
      "dtypes: float64(3), int64(9), object(7)\n",
      "memory usage: 1.6+ MB\n"
     ]
    }
   ],
   "source": [
    "df.info()"
   ]
  },
  {
   "cell_type": "markdown",
   "id": "29b39763",
   "metadata": {
    "papermill": {
     "duration": 0.006534,
     "end_time": "2025-07-24T19:10:03.879355",
     "exception": false,
     "start_time": "2025-07-24T19:10:03.872821",
     "status": "completed"
    },
    "tags": []
   },
   "source": [
    "## 2. Getting descriptive details of the dataset"
   ]
  },
  {
   "cell_type": "code",
   "execution_count": 6,
   "id": "36ce63e8",
   "metadata": {
    "execution": {
     "iopub.execute_input": "2025-07-24T19:10:03.896334Z",
     "iopub.status.busy": "2025-07-24T19:10:03.895935Z",
     "iopub.status.idle": "2025-07-24T19:10:03.956218Z",
     "shell.execute_reply": "2025-07-24T19:10:03.954954Z"
    },
    "papermill": {
     "duration": 0.071392,
     "end_time": "2025-07-24T19:10:03.958114",
     "exception": false,
     "start_time": "2025-07-24T19:10:03.886722",
     "status": "completed"
    },
    "tags": []
   },
   "outputs": [
    {
     "data": {
      "text/html": [
       "<div>\n",
       "<style scoped>\n",
       "    .dataframe tbody tr th:only-of-type {\n",
       "        vertical-align: middle;\n",
       "    }\n",
       "\n",
       "    .dataframe tbody tr th {\n",
       "        vertical-align: top;\n",
       "    }\n",
       "\n",
       "    .dataframe thead th {\n",
       "        text-align: right;\n",
       "    }\n",
       "</style>\n",
       "<table border=\"1\" class=\"dataframe\">\n",
       "  <thead>\n",
       "    <tr style=\"text-align: right;\">\n",
       "      <th></th>\n",
       "      <th>Age</th>\n",
       "      <th>Sleep Hours</th>\n",
       "      <th>Physical Activity (hrs/week)</th>\n",
       "      <th>Caffeine Intake (mg/day)</th>\n",
       "      <th>Alcohol Consumption (drinks/week)</th>\n",
       "      <th>Stress Level (1-10)</th>\n",
       "      <th>Heart Rate (bpm)</th>\n",
       "      <th>Breathing Rate (breaths/min)</th>\n",
       "      <th>Sweating Level (1-5)</th>\n",
       "      <th>Therapy Sessions (per month)</th>\n",
       "      <th>Diet Quality (1-10)</th>\n",
       "      <th>Anxiety Level (1-10)</th>\n",
       "    </tr>\n",
       "  </thead>\n",
       "  <tbody>\n",
       "    <tr>\n",
       "      <th>count</th>\n",
       "      <td>11000.000000</td>\n",
       "      <td>11000.000000</td>\n",
       "      <td>11000.000000</td>\n",
       "      <td>11000.000000</td>\n",
       "      <td>11000.000000</td>\n",
       "      <td>11000.000000</td>\n",
       "      <td>11000.000000</td>\n",
       "      <td>11000.000000</td>\n",
       "      <td>11000.000000</td>\n",
       "      <td>11000.000000</td>\n",
       "      <td>11000.000000</td>\n",
       "      <td>11000.000000</td>\n",
       "    </tr>\n",
       "    <tr>\n",
       "      <th>mean</th>\n",
       "      <td>40.241727</td>\n",
       "      <td>6.650691</td>\n",
       "      <td>2.942136</td>\n",
       "      <td>286.090000</td>\n",
       "      <td>9.701636</td>\n",
       "      <td>5.856364</td>\n",
       "      <td>90.916000</td>\n",
       "      <td>20.957545</td>\n",
       "      <td>3.080636</td>\n",
       "      <td>2.427818</td>\n",
       "      <td>5.181818</td>\n",
       "      <td>3.929364</td>\n",
       "    </tr>\n",
       "    <tr>\n",
       "      <th>std</th>\n",
       "      <td>13.236140</td>\n",
       "      <td>1.227509</td>\n",
       "      <td>1.827825</td>\n",
       "      <td>144.813157</td>\n",
       "      <td>5.689713</td>\n",
       "      <td>2.927202</td>\n",
       "      <td>17.325721</td>\n",
       "      <td>5.160107</td>\n",
       "      <td>1.398877</td>\n",
       "      <td>2.183106</td>\n",
       "      <td>2.895243</td>\n",
       "      <td>2.122533</td>\n",
       "    </tr>\n",
       "    <tr>\n",
       "      <th>min</th>\n",
       "      <td>18.000000</td>\n",
       "      <td>2.300000</td>\n",
       "      <td>0.000000</td>\n",
       "      <td>0.000000</td>\n",
       "      <td>0.000000</td>\n",
       "      <td>1.000000</td>\n",
       "      <td>60.000000</td>\n",
       "      <td>12.000000</td>\n",
       "      <td>1.000000</td>\n",
       "      <td>0.000000</td>\n",
       "      <td>1.000000</td>\n",
       "      <td>1.000000</td>\n",
       "    </tr>\n",
       "    <tr>\n",
       "      <th>25%</th>\n",
       "      <td>29.000000</td>\n",
       "      <td>5.900000</td>\n",
       "      <td>1.500000</td>\n",
       "      <td>172.000000</td>\n",
       "      <td>5.000000</td>\n",
       "      <td>3.000000</td>\n",
       "      <td>76.000000</td>\n",
       "      <td>17.000000</td>\n",
       "      <td>2.000000</td>\n",
       "      <td>1.000000</td>\n",
       "      <td>3.000000</td>\n",
       "      <td>2.000000</td>\n",
       "    </tr>\n",
       "    <tr>\n",
       "      <th>50%</th>\n",
       "      <td>40.000000</td>\n",
       "      <td>6.700000</td>\n",
       "      <td>2.800000</td>\n",
       "      <td>273.000000</td>\n",
       "      <td>10.000000</td>\n",
       "      <td>6.000000</td>\n",
       "      <td>92.000000</td>\n",
       "      <td>21.000000</td>\n",
       "      <td>3.000000</td>\n",
       "      <td>2.000000</td>\n",
       "      <td>5.000000</td>\n",
       "      <td>4.000000</td>\n",
       "    </tr>\n",
       "    <tr>\n",
       "      <th>75%</th>\n",
       "      <td>51.000000</td>\n",
       "      <td>7.500000</td>\n",
       "      <td>4.200000</td>\n",
       "      <td>382.000000</td>\n",
       "      <td>15.000000</td>\n",
       "      <td>8.000000</td>\n",
       "      <td>106.000000</td>\n",
       "      <td>25.000000</td>\n",
       "      <td>4.000000</td>\n",
       "      <td>4.000000</td>\n",
       "      <td>8.000000</td>\n",
       "      <td>5.000000</td>\n",
       "    </tr>\n",
       "    <tr>\n",
       "      <th>max</th>\n",
       "      <td>64.000000</td>\n",
       "      <td>11.300000</td>\n",
       "      <td>10.100000</td>\n",
       "      <td>599.000000</td>\n",
       "      <td>19.000000</td>\n",
       "      <td>10.000000</td>\n",
       "      <td>119.000000</td>\n",
       "      <td>29.000000</td>\n",
       "      <td>5.000000</td>\n",
       "      <td>12.000000</td>\n",
       "      <td>10.000000</td>\n",
       "      <td>10.000000</td>\n",
       "    </tr>\n",
       "  </tbody>\n",
       "</table>\n",
       "</div>"
      ],
      "text/plain": [
       "                Age   Sleep Hours  Physical Activity (hrs/week)  \\\n",
       "count  11000.000000  11000.000000                  11000.000000   \n",
       "mean      40.241727      6.650691                      2.942136   \n",
       "std       13.236140      1.227509                      1.827825   \n",
       "min       18.000000      2.300000                      0.000000   \n",
       "25%       29.000000      5.900000                      1.500000   \n",
       "50%       40.000000      6.700000                      2.800000   \n",
       "75%       51.000000      7.500000                      4.200000   \n",
       "max       64.000000     11.300000                     10.100000   \n",
       "\n",
       "       Caffeine Intake (mg/day)  Alcohol Consumption (drinks/week)  \\\n",
       "count              11000.000000                       11000.000000   \n",
       "mean                 286.090000                           9.701636   \n",
       "std                  144.813157                           5.689713   \n",
       "min                    0.000000                           0.000000   \n",
       "25%                  172.000000                           5.000000   \n",
       "50%                  273.000000                          10.000000   \n",
       "75%                  382.000000                          15.000000   \n",
       "max                  599.000000                          19.000000   \n",
       "\n",
       "       Stress Level (1-10)  Heart Rate (bpm)  Breathing Rate (breaths/min)  \\\n",
       "count         11000.000000      11000.000000                  11000.000000   \n",
       "mean              5.856364         90.916000                     20.957545   \n",
       "std               2.927202         17.325721                      5.160107   \n",
       "min               1.000000         60.000000                     12.000000   \n",
       "25%               3.000000         76.000000                     17.000000   \n",
       "50%               6.000000         92.000000                     21.000000   \n",
       "75%               8.000000        106.000000                     25.000000   \n",
       "max              10.000000        119.000000                     29.000000   \n",
       "\n",
       "       Sweating Level (1-5)  Therapy Sessions (per month)  \\\n",
       "count          11000.000000                  11000.000000   \n",
       "mean               3.080636                      2.427818   \n",
       "std                1.398877                      2.183106   \n",
       "min                1.000000                      0.000000   \n",
       "25%                2.000000                      1.000000   \n",
       "50%                3.000000                      2.000000   \n",
       "75%                4.000000                      4.000000   \n",
       "max                5.000000                     12.000000   \n",
       "\n",
       "       Diet Quality (1-10)  Anxiety Level (1-10)  \n",
       "count         11000.000000          11000.000000  \n",
       "mean              5.181818              3.929364  \n",
       "std               2.895243              2.122533  \n",
       "min               1.000000              1.000000  \n",
       "25%               3.000000              2.000000  \n",
       "50%               5.000000              4.000000  \n",
       "75%               8.000000              5.000000  \n",
       "max              10.000000             10.000000  "
      ]
     },
     "execution_count": 6,
     "metadata": {},
     "output_type": "execute_result"
    }
   ],
   "source": [
    "# numerical features\n",
    "df.describe()"
   ]
  },
  {
   "cell_type": "markdown",
   "id": "cc293f2f",
   "metadata": {
    "papermill": {
     "duration": 0.00742,
     "end_time": "2025-07-24T19:10:03.973684",
     "exception": false,
     "start_time": "2025-07-24T19:10:03.966264",
     "status": "completed"
    },
    "tags": []
   },
   "source": [
    "<p style=\"font-size:18px;\"><b>Observations based on descriptive statistics:</b></p>\n",
    "<p style=\"font-size:16px;\">\n",
    "1. All patients in the dataset are adults. <br/>\n",
    "2. Some individuals appear to be inactive or unemployed. <br/>\n",
    "3. The average caffeine consumption is moderate. However, some patients consume very high amounts, while others report none. <br/>\n",
    "4. A few patients have high reported alcohol consumption, which might suggest potential overuse. <br/>\n",
    "5. Some patients report attending zero therapy sessions per month. <br/>\n",
    "</p>\n"
   ]
  },
  {
   "cell_type": "code",
   "execution_count": 7,
   "id": "e1819c27",
   "metadata": {
    "execution": {
     "iopub.execute_input": "2025-07-24T19:10:03.992119Z",
     "iopub.status.busy": "2025-07-24T19:10:03.991739Z",
     "iopub.status.idle": "2025-07-24T19:10:04.024424Z",
     "shell.execute_reply": "2025-07-24T19:10:04.023337Z"
    },
    "papermill": {
     "duration": 0.044139,
     "end_time": "2025-07-24T19:10:04.026262",
     "exception": false,
     "start_time": "2025-07-24T19:10:03.982123",
     "status": "completed"
    },
    "tags": []
   },
   "outputs": [
    {
     "data": {
      "text/html": [
       "<div>\n",
       "<style scoped>\n",
       "    .dataframe tbody tr th:only-of-type {\n",
       "        vertical-align: middle;\n",
       "    }\n",
       "\n",
       "    .dataframe tbody tr th {\n",
       "        vertical-align: top;\n",
       "    }\n",
       "\n",
       "    .dataframe thead th {\n",
       "        text-align: right;\n",
       "    }\n",
       "</style>\n",
       "<table border=\"1\" class=\"dataframe\">\n",
       "  <thead>\n",
       "    <tr style=\"text-align: right;\">\n",
       "      <th></th>\n",
       "      <th>Gender</th>\n",
       "      <th>Occupation</th>\n",
       "      <th>Smoking</th>\n",
       "      <th>Family History of Anxiety</th>\n",
       "      <th>Dizziness</th>\n",
       "      <th>Medication</th>\n",
       "      <th>Recent Major Life Event</th>\n",
       "    </tr>\n",
       "  </thead>\n",
       "  <tbody>\n",
       "    <tr>\n",
       "      <th>count</th>\n",
       "      <td>11000</td>\n",
       "      <td>11000</td>\n",
       "      <td>11000</td>\n",
       "      <td>11000</td>\n",
       "      <td>11000</td>\n",
       "      <td>11000</td>\n",
       "      <td>11000</td>\n",
       "    </tr>\n",
       "    <tr>\n",
       "      <th>unique</th>\n",
       "      <td>3</td>\n",
       "      <td>13</td>\n",
       "      <td>2</td>\n",
       "      <td>2</td>\n",
       "      <td>2</td>\n",
       "      <td>2</td>\n",
       "      <td>2</td>\n",
       "    </tr>\n",
       "    <tr>\n",
       "      <th>top</th>\n",
       "      <td>Female</td>\n",
       "      <td>Musician</td>\n",
       "      <td>Yes</td>\n",
       "      <td>Yes</td>\n",
       "      <td>Yes</td>\n",
       "      <td>Yes</td>\n",
       "      <td>Yes</td>\n",
       "    </tr>\n",
       "    <tr>\n",
       "      <th>freq</th>\n",
       "      <td>3730</td>\n",
       "      <td>892</td>\n",
       "      <td>5779</td>\n",
       "      <td>5847</td>\n",
       "      <td>5672</td>\n",
       "      <td>5666</td>\n",
       "      <td>5623</td>\n",
       "    </tr>\n",
       "  </tbody>\n",
       "</table>\n",
       "</div>"
      ],
      "text/plain": [
       "        Gender Occupation Smoking Family History of Anxiety Dizziness  \\\n",
       "count    11000      11000   11000                     11000     11000   \n",
       "unique       3         13       2                         2         2   \n",
       "top     Female   Musician     Yes                       Yes       Yes   \n",
       "freq      3730        892    5779                      5847      5672   \n",
       "\n",
       "       Medication Recent Major Life Event  \n",
       "count       11000                   11000  \n",
       "unique          2                       2  \n",
       "top           Yes                     Yes  \n",
       "freq         5666                    5623  "
      ]
     },
     "execution_count": 7,
     "metadata": {},
     "output_type": "execute_result"
    }
   ],
   "source": [
    "# categorical features\n",
    "df.describe(include='object')"
   ]
  },
  {
   "cell_type": "markdown",
   "id": "03d30e7b",
   "metadata": {
    "papermill": {
     "duration": 0.007728,
     "end_time": "2025-07-24T19:10:04.043326",
     "exception": false,
     "start_time": "2025-07-24T19:10:04.035598",
     "status": "completed"
    },
    "tags": []
   },
   "source": [
    "<p style=\"font-size:18px;\"><b>Observations based on descriptive statistics:</b></p>\n",
    "<p style=\"font-size:16px;\">\n",
    "    1. It seems that females experience social anxiety more than males. However, it is important to note that some patients did not disclose their gender. <br/>\n",
    "    2. More than half of the patients smoke, have a family history of anxiety, experience dizziness, use medication, and have recently gone through major life events.\n",
    "</p>\n"
   ]
  },
  {
   "cell_type": "markdown",
   "id": "59fac840",
   "metadata": {
    "papermill": {
     "duration": 0.007017,
     "end_time": "2025-07-24T19:10:04.057807",
     "exception": false,
     "start_time": "2025-07-24T19:10:04.050790",
     "status": "completed"
    },
    "tags": []
   },
   "source": [
    "# 🔍 Data Quality Checking "
   ]
  },
  {
   "cell_type": "markdown",
   "id": "75760fc0",
   "metadata": {
    "papermill": {
     "duration": 0.009831,
     "end_time": "2025-07-24T19:10:04.075186",
     "exception": false,
     "start_time": "2025-07-24T19:10:04.065355",
     "status": "completed"
    },
    "tags": []
   },
   "source": [
    "## ✅ Reliability"
   ]
  },
  {
   "cell_type": "markdown",
   "id": "31f87614",
   "metadata": {
    "papermill": {
     "duration": 0.007266,
     "end_time": "2025-07-24T19:10:04.090467",
     "exception": false,
     "start_time": "2025-07-24T19:10:04.083201",
     "status": "completed"
    },
    "tags": []
   },
   "source": [
    "<p style=\"font-size:16px;\">This dataset is obtained from Kaggle https://www.kaggle.com/datasets/natezhang123/social-anxiety-dataset/data for only educational and reserach purposes</p>"
   ]
  },
  {
   "cell_type": "markdown",
   "id": "ac202c94",
   "metadata": {
    "papermill": {
     "duration": 0.0076,
     "end_time": "2025-07-24T19:10:04.105967",
     "exception": false,
     "start_time": "2025-07-24T19:10:04.098367",
     "status": "completed"
    },
    "tags": []
   },
   "source": [
    "## 🕒 Timeliness"
   ]
  },
  {
   "cell_type": "markdown",
   "id": "7bff4d7f",
   "metadata": {
    "papermill": {
     "duration": 0.008825,
     "end_time": "2025-07-24T19:10:04.123611",
     "exception": false,
     "start_time": "2025-07-24T19:10:04.114786",
     "status": "completed"
    },
    "tags": []
   },
   "source": [
    "<p style=\"font-size:16px;\">The dataset was uploaded in Kaggle two months ago (approximate date: May 2025)</p>"
   ]
  },
  {
   "cell_type": "markdown",
   "id": "7c5ec16c",
   "metadata": {
    "papermill": {
     "duration": 0.007226,
     "end_time": "2025-07-24T19:10:04.208162",
     "exception": false,
     "start_time": "2025-07-24T19:10:04.200936",
     "status": "completed"
    },
    "tags": []
   },
   "source": [
    "## ✅ Consistency"
   ]
  },
  {
   "cell_type": "markdown",
   "id": "448678b1",
   "metadata": {
    "papermill": {
     "duration": 0.007507,
     "end_time": "2025-07-24T19:10:04.223135",
     "exception": false,
     "start_time": "2025-07-24T19:10:04.215628",
     "status": "completed"
    },
    "tags": []
   },
   "source": [
    "<p style=\"font-size:16px;\">The dataset variables are consistent.</p>"
   ]
  },
  {
   "cell_type": "markdown",
   "id": "9bea678f",
   "metadata": {
    "papermill": {
     "duration": 0.008156,
     "end_time": "2025-07-24T19:10:04.238874",
     "exception": false,
     "start_time": "2025-07-24T19:10:04.230718",
     "status": "completed"
    },
    "tags": []
   },
   "source": [
    "## 🎯 Relevance"
   ]
  },
  {
   "cell_type": "markdown",
   "id": "4da297b6",
   "metadata": {
    "papermill": {
     "duration": 0.00925,
     "end_time": "2025-07-24T19:10:04.258241",
     "exception": false,
     "start_time": "2025-07-24T19:10:04.248991",
     "status": "completed"
    },
    "tags": []
   },
   "source": [
    "<p style=\"font-size:16px;\">The sample is appropriate and all columns are related for the analysis.</p>"
   ]
  },
  {
   "cell_type": "markdown",
   "id": "c89f3459",
   "metadata": {
    "papermill": {
     "duration": 0.007927,
     "end_time": "2025-07-24T19:10:04.273860",
     "exception": false,
     "start_time": "2025-07-24T19:10:04.265933",
     "status": "completed"
    },
    "tags": []
   },
   "source": [
    "## ✨ Uniqueness"
   ]
  },
  {
   "cell_type": "markdown",
   "id": "087f3f75",
   "metadata": {
    "papermill": {
     "duration": 0.009446,
     "end_time": "2025-07-24T19:10:04.291151",
     "exception": false,
     "start_time": "2025-07-24T19:10:04.281705",
     "status": "completed"
    },
    "tags": []
   },
   "source": [
    "<p style=\"font-size:16px;\">All the data points themselves are unique. It is acceptable for all features to have duplicated values.</p>"
   ]
  },
  {
   "cell_type": "code",
   "execution_count": 8,
   "id": "24fd923c",
   "metadata": {
    "execution": {
     "iopub.execute_input": "2025-07-24T19:10:04.311511Z",
     "iopub.status.busy": "2025-07-24T19:10:04.311097Z",
     "iopub.status.idle": "2025-07-24T19:10:04.327613Z",
     "shell.execute_reply": "2025-07-24T19:10:04.326284Z"
    },
    "papermill": {
     "duration": 0.029727,
     "end_time": "2025-07-24T19:10:04.329866",
     "exception": false,
     "start_time": "2025-07-24T19:10:04.300139",
     "status": "completed"
    },
    "tags": []
   },
   "outputs": [
    {
     "data": {
      "text/plain": [
       "0"
      ]
     },
     "execution_count": 8,
     "metadata": {},
     "output_type": "execute_result"
    }
   ],
   "source": [
    "df.duplicated().sum()"
   ]
  },
  {
   "cell_type": "markdown",
   "id": "5b490b15",
   "metadata": {
    "papermill": {
     "duration": 0.008695,
     "end_time": "2025-07-24T19:10:04.349026",
     "exception": false,
     "start_time": "2025-07-24T19:10:04.340331",
     "status": "completed"
    },
    "tags": []
   },
   "source": [
    "## 🧩 Completeness"
   ]
  },
  {
   "cell_type": "code",
   "execution_count": 9,
   "id": "e146c6a0",
   "metadata": {
    "execution": {
     "iopub.execute_input": "2025-07-24T19:10:04.368800Z",
     "iopub.status.busy": "2025-07-24T19:10:04.368272Z",
     "iopub.status.idle": "2025-07-24T19:10:04.385089Z",
     "shell.execute_reply": "2025-07-24T19:10:04.383775Z"
    },
    "papermill": {
     "duration": 0.029828,
     "end_time": "2025-07-24T19:10:04.387114",
     "exception": false,
     "start_time": "2025-07-24T19:10:04.357286",
     "status": "completed"
    },
    "tags": []
   },
   "outputs": [
    {
     "data": {
      "text/plain": [
       "Age                                  0\n",
       "Gender                               0\n",
       "Occupation                           0\n",
       "Sleep Hours                          0\n",
       "Physical Activity (hrs/week)         0\n",
       "Caffeine Intake (mg/day)             0\n",
       "Alcohol Consumption (drinks/week)    0\n",
       "Smoking                              0\n",
       "Family History of Anxiety            0\n",
       "Stress Level (1-10)                  0\n",
       "Heart Rate (bpm)                     0\n",
       "Breathing Rate (breaths/min)         0\n",
       "Sweating Level (1-5)                 0\n",
       "Dizziness                            0\n",
       "Medication                           0\n",
       "Therapy Sessions (per month)         0\n",
       "Recent Major Life Event              0\n",
       "Diet Quality (1-10)                  0\n",
       "Anxiety Level (1-10)                 0\n",
       "dtype: int64"
      ]
     },
     "execution_count": 9,
     "metadata": {},
     "output_type": "execute_result"
    }
   ],
   "source": [
    "df.isna().sum()"
   ]
  },
  {
   "cell_type": "markdown",
   "id": "3a9694bc",
   "metadata": {
    "papermill": {
     "duration": 0.009399,
     "end_time": "2025-07-24T19:10:04.405474",
     "exception": false,
     "start_time": "2025-07-24T19:10:04.396075",
     "status": "completed"
    },
    "tags": []
   },
   "source": [
    "## 🎯 Accuracy"
   ]
  },
  {
   "cell_type": "code",
   "execution_count": 10,
   "id": "2f499c1b",
   "metadata": {
    "execution": {
     "iopub.execute_input": "2025-07-24T19:10:04.425514Z",
     "iopub.status.busy": "2025-07-24T19:10:04.425188Z",
     "iopub.status.idle": "2025-07-24T19:10:04.443842Z",
     "shell.execute_reply": "2025-07-24T19:10:04.442305Z"
    },
    "papermill": {
     "duration": 0.032602,
     "end_time": "2025-07-24T19:10:04.447027",
     "exception": false,
     "start_time": "2025-07-24T19:10:04.414425",
     "status": "completed"
    },
    "tags": []
   },
   "outputs": [
    {
     "name": "stdout",
     "output_type": "stream",
     "text": [
      "<class 'pandas.core.frame.DataFrame'>\n",
      "RangeIndex: 11000 entries, 0 to 10999\n",
      "Data columns (total 19 columns):\n",
      " #   Column                             Non-Null Count  Dtype  \n",
      "---  ------                             --------------  -----  \n",
      " 0   Age                                11000 non-null  int64  \n",
      " 1   Gender                             11000 non-null  object \n",
      " 2   Occupation                         11000 non-null  object \n",
      " 3   Sleep Hours                        11000 non-null  float64\n",
      " 4   Physical Activity (hrs/week)       11000 non-null  float64\n",
      " 5   Caffeine Intake (mg/day)           11000 non-null  int64  \n",
      " 6   Alcohol Consumption (drinks/week)  11000 non-null  int64  \n",
      " 7   Smoking                            11000 non-null  object \n",
      " 8   Family History of Anxiety          11000 non-null  object \n",
      " 9   Stress Level (1-10)                11000 non-null  int64  \n",
      " 10  Heart Rate (bpm)                   11000 non-null  int64  \n",
      " 11  Breathing Rate (breaths/min)       11000 non-null  int64  \n",
      " 12  Sweating Level (1-5)               11000 non-null  int64  \n",
      " 13  Dizziness                          11000 non-null  object \n",
      " 14  Medication                         11000 non-null  object \n",
      " 15  Therapy Sessions (per month)       11000 non-null  int64  \n",
      " 16  Recent Major Life Event            11000 non-null  object \n",
      " 17  Diet Quality (1-10)                11000 non-null  int64  \n",
      " 18  Anxiety Level (1-10)               11000 non-null  float64\n",
      "dtypes: float64(3), int64(9), object(7)\n",
      "memory usage: 1.6+ MB\n"
     ]
    }
   ],
   "source": [
    "df.info()"
   ]
  },
  {
   "cell_type": "code",
   "execution_count": 11,
   "id": "8feb02d7",
   "metadata": {
    "execution": {
     "iopub.execute_input": "2025-07-24T19:10:04.470818Z",
     "iopub.status.busy": "2025-07-24T19:10:04.469483Z",
     "iopub.status.idle": "2025-07-24T19:10:04.476115Z",
     "shell.execute_reply": "2025-07-24T19:10:04.474531Z"
    },
    "papermill": {
     "duration": 0.022328,
     "end_time": "2025-07-24T19:10:04.478594",
     "exception": false,
     "start_time": "2025-07-24T19:10:04.456266",
     "status": "completed"
    },
    "tags": []
   },
   "outputs": [],
   "source": [
    "# converting Anxiety Level dtype to int for classification\n",
    "df['Anxiety Level (1-10)'] = df['Anxiety Level (1-10)'].astype(int)"
   ]
  },
  {
   "cell_type": "code",
   "execution_count": 12,
   "id": "ae042e6b",
   "metadata": {
    "execution": {
     "iopub.execute_input": "2025-07-24T19:10:04.500612Z",
     "iopub.status.busy": "2025-07-24T19:10:04.500289Z",
     "iopub.status.idle": "2025-07-24T19:10:04.518348Z",
     "shell.execute_reply": "2025-07-24T19:10:04.517177Z"
    },
    "papermill": {
     "duration": 0.031226,
     "end_time": "2025-07-24T19:10:04.520052",
     "exception": false,
     "start_time": "2025-07-24T19:10:04.488826",
     "status": "completed"
    },
    "tags": []
   },
   "outputs": [],
   "source": [
    "# mapping yes's and no's to 1s and 0s for models \n",
    "df['Smoking'] = df['Smoking'].map({'Yes':1, 'No':0})\n",
    "df['Family History of Anxiety'] = df['Family History of Anxiety'].map({'Yes':1, 'No':0})\n",
    "df['Dizziness'] = df['Dizziness'].map({'Yes':1, 'No':0})\n",
    "df['Medication'] = df['Medication'].map({'Yes':1, 'No':0})\n",
    "df['Recent Major Life Event'] = df['Recent Major Life Event'].map({'Yes':1, 'No':0})"
   ]
  },
  {
   "cell_type": "code",
   "execution_count": 13,
   "id": "9f452ce9",
   "metadata": {
    "execution": {
     "iopub.execute_input": "2025-07-24T19:10:04.539853Z",
     "iopub.status.busy": "2025-07-24T19:10:04.539466Z",
     "iopub.status.idle": "2025-07-24T19:10:04.556448Z",
     "shell.execute_reply": "2025-07-24T19:10:04.555398Z"
    },
    "papermill": {
     "duration": 0.029183,
     "end_time": "2025-07-24T19:10:04.558154",
     "exception": false,
     "start_time": "2025-07-24T19:10:04.528971",
     "status": "completed"
    },
    "tags": []
   },
   "outputs": [
    {
     "data": {
      "text/html": [
       "<div>\n",
       "<style scoped>\n",
       "    .dataframe tbody tr th:only-of-type {\n",
       "        vertical-align: middle;\n",
       "    }\n",
       "\n",
       "    .dataframe tbody tr th {\n",
       "        vertical-align: top;\n",
       "    }\n",
       "\n",
       "    .dataframe thead th {\n",
       "        text-align: right;\n",
       "    }\n",
       "</style>\n",
       "<table border=\"1\" class=\"dataframe\">\n",
       "  <thead>\n",
       "    <tr style=\"text-align: right;\">\n",
       "      <th></th>\n",
       "      <th>Age</th>\n",
       "      <th>Gender</th>\n",
       "      <th>Occupation</th>\n",
       "      <th>Sleep Hours</th>\n",
       "      <th>Physical Activity (hrs/week)</th>\n",
       "      <th>Caffeine Intake (mg/day)</th>\n",
       "      <th>Alcohol Consumption (drinks/week)</th>\n",
       "      <th>Smoking</th>\n",
       "      <th>Family History of Anxiety</th>\n",
       "      <th>Stress Level (1-10)</th>\n",
       "      <th>Heart Rate (bpm)</th>\n",
       "      <th>Breathing Rate (breaths/min)</th>\n",
       "      <th>Sweating Level (1-5)</th>\n",
       "      <th>Dizziness</th>\n",
       "      <th>Medication</th>\n",
       "      <th>Therapy Sessions (per month)</th>\n",
       "      <th>Recent Major Life Event</th>\n",
       "      <th>Diet Quality (1-10)</th>\n",
       "      <th>Anxiety Level (1-10)</th>\n",
       "    </tr>\n",
       "  </thead>\n",
       "  <tbody>\n",
       "    <tr>\n",
       "      <th>0</th>\n",
       "      <td>29</td>\n",
       "      <td>Female</td>\n",
       "      <td>Artist</td>\n",
       "      <td>6.0</td>\n",
       "      <td>2.7</td>\n",
       "      <td>181</td>\n",
       "      <td>10</td>\n",
       "      <td>1</td>\n",
       "      <td>0</td>\n",
       "      <td>10</td>\n",
       "      <td>114</td>\n",
       "      <td>14</td>\n",
       "      <td>4</td>\n",
       "      <td>0</td>\n",
       "      <td>1</td>\n",
       "      <td>3</td>\n",
       "      <td>1</td>\n",
       "      <td>7</td>\n",
       "      <td>5</td>\n",
       "    </tr>\n",
       "    <tr>\n",
       "      <th>1</th>\n",
       "      <td>46</td>\n",
       "      <td>Other</td>\n",
       "      <td>Nurse</td>\n",
       "      <td>6.2</td>\n",
       "      <td>5.7</td>\n",
       "      <td>200</td>\n",
       "      <td>8</td>\n",
       "      <td>1</td>\n",
       "      <td>1</td>\n",
       "      <td>1</td>\n",
       "      <td>62</td>\n",
       "      <td>23</td>\n",
       "      <td>2</td>\n",
       "      <td>1</td>\n",
       "      <td>0</td>\n",
       "      <td>2</td>\n",
       "      <td>0</td>\n",
       "      <td>8</td>\n",
       "      <td>3</td>\n",
       "    </tr>\n",
       "    <tr>\n",
       "      <th>2</th>\n",
       "      <td>64</td>\n",
       "      <td>Male</td>\n",
       "      <td>Other</td>\n",
       "      <td>5.0</td>\n",
       "      <td>3.7</td>\n",
       "      <td>117</td>\n",
       "      <td>4</td>\n",
       "      <td>0</td>\n",
       "      <td>1</td>\n",
       "      <td>1</td>\n",
       "      <td>91</td>\n",
       "      <td>28</td>\n",
       "      <td>3</td>\n",
       "      <td>0</td>\n",
       "      <td>0</td>\n",
       "      <td>1</td>\n",
       "      <td>1</td>\n",
       "      <td>1</td>\n",
       "      <td>1</td>\n",
       "    </tr>\n",
       "    <tr>\n",
       "      <th>3</th>\n",
       "      <td>20</td>\n",
       "      <td>Female</td>\n",
       "      <td>Scientist</td>\n",
       "      <td>5.8</td>\n",
       "      <td>2.8</td>\n",
       "      <td>360</td>\n",
       "      <td>6</td>\n",
       "      <td>1</td>\n",
       "      <td>0</td>\n",
       "      <td>4</td>\n",
       "      <td>86</td>\n",
       "      <td>17</td>\n",
       "      <td>3</td>\n",
       "      <td>0</td>\n",
       "      <td>0</td>\n",
       "      <td>0</td>\n",
       "      <td>0</td>\n",
       "      <td>1</td>\n",
       "      <td>2</td>\n",
       "    </tr>\n",
       "    <tr>\n",
       "      <th>4</th>\n",
       "      <td>49</td>\n",
       "      <td>Female</td>\n",
       "      <td>Other</td>\n",
       "      <td>8.2</td>\n",
       "      <td>2.3</td>\n",
       "      <td>247</td>\n",
       "      <td>4</td>\n",
       "      <td>1</td>\n",
       "      <td>0</td>\n",
       "      <td>1</td>\n",
       "      <td>98</td>\n",
       "      <td>19</td>\n",
       "      <td>4</td>\n",
       "      <td>1</td>\n",
       "      <td>1</td>\n",
       "      <td>1</td>\n",
       "      <td>0</td>\n",
       "      <td>3</td>\n",
       "      <td>1</td>\n",
       "    </tr>\n",
       "  </tbody>\n",
       "</table>\n",
       "</div>"
      ],
      "text/plain": [
       "   Age  Gender Occupation  Sleep Hours  Physical Activity (hrs/week)  \\\n",
       "0   29  Female     Artist          6.0                           2.7   \n",
       "1   46   Other      Nurse          6.2                           5.7   \n",
       "2   64    Male      Other          5.0                           3.7   \n",
       "3   20  Female  Scientist          5.8                           2.8   \n",
       "4   49  Female      Other          8.2                           2.3   \n",
       "\n",
       "   Caffeine Intake (mg/day)  Alcohol Consumption (drinks/week)  Smoking  \\\n",
       "0                       181                                 10        1   \n",
       "1                       200                                  8        1   \n",
       "2                       117                                  4        0   \n",
       "3                       360                                  6        1   \n",
       "4                       247                                  4        1   \n",
       "\n",
       "   Family History of Anxiety  Stress Level (1-10)  Heart Rate (bpm)  \\\n",
       "0                          0                   10               114   \n",
       "1                          1                    1                62   \n",
       "2                          1                    1                91   \n",
       "3                          0                    4                86   \n",
       "4                          0                    1                98   \n",
       "\n",
       "   Breathing Rate (breaths/min)  Sweating Level (1-5)  Dizziness  Medication  \\\n",
       "0                            14                     4          0           1   \n",
       "1                            23                     2          1           0   \n",
       "2                            28                     3          0           0   \n",
       "3                            17                     3          0           0   \n",
       "4                            19                     4          1           1   \n",
       "\n",
       "   Therapy Sessions (per month)  Recent Major Life Event  Diet Quality (1-10)  \\\n",
       "0                             3                        1                    7   \n",
       "1                             2                        0                    8   \n",
       "2                             1                        1                    1   \n",
       "3                             0                        0                    1   \n",
       "4                             1                        0                    3   \n",
       "\n",
       "   Anxiety Level (1-10)  \n",
       "0                     5  \n",
       "1                     3  \n",
       "2                     1  \n",
       "3                     2  \n",
       "4                     1  "
      ]
     },
     "execution_count": 13,
     "metadata": {},
     "output_type": "execute_result"
    }
   ],
   "source": [
    "df.head()"
   ]
  },
  {
   "cell_type": "markdown",
   "id": "f3ad70af",
   "metadata": {
    "papermill": {
     "duration": 0.009036,
     "end_time": "2025-07-24T19:10:04.576171",
     "exception": false,
     "start_time": "2025-07-24T19:10:04.567135",
     "status": "completed"
    },
    "tags": []
   },
   "source": [
    "### 🔍 Detecting Outliers"
   ]
  },
  {
   "cell_type": "code",
   "execution_count": 14,
   "id": "43d3c590",
   "metadata": {
    "execution": {
     "iopub.execute_input": "2025-07-24T19:10:04.596815Z",
     "iopub.status.busy": "2025-07-24T19:10:04.596447Z",
     "iopub.status.idle": "2025-07-24T19:10:04.918186Z",
     "shell.execute_reply": "2025-07-24T19:10:04.917160Z"
    },
    "papermill": {
     "duration": 0.334706,
     "end_time": "2025-07-24T19:10:04.920022",
     "exception": false,
     "start_time": "2025-07-24T19:10:04.585316",
     "status": "completed"
    },
    "tags": []
   },
   "outputs": [
    {
     "data": {
      "text/plain": [
       "Text(0, 0.5, 'Count of Sleep Hours')"
      ]
     },
     "execution_count": 14,
     "metadata": {},
     "output_type": "execute_result"
    },
    {
     "data": {
      "image/png": "[encoded data removed]",
      "text/plain": [
       "<Figure size 640x480 with 1 Axes>"
      ]
     },
     "metadata": {},
     "output_type": "display_data"
    }
   ],
   "source": [
    "plt.hist(bins=30, x=df['Sleep Hours'])\n",
    "plt.xlabel('Sleep Hours')\n",
    "plt.ylabel('Count of Sleep Hours')"
   ]
  },
  {
   "cell_type": "code",
   "execution_count": 15,
   "id": "5ac94aca",
   "metadata": {
    "execution": {
     "iopub.execute_input": "2025-07-24T19:10:04.938649Z",
     "iopub.status.busy": "2025-07-24T19:10:04.938334Z",
     "iopub.status.idle": "2025-07-24T19:10:05.156581Z",
     "shell.execute_reply": "2025-07-24T19:10:05.155510Z"
    },
    "papermill": {
     "duration": 0.229214,
     "end_time": "2025-07-24T19:10:05.158066",
     "exception": false,
     "start_time": "2025-07-24T19:10:04.928852",
     "status": "completed"
    },
    "tags": []
   },
   "outputs": [
    {
     "data": {
      "text/plain": [
       "Text(0, 0.5, 'Count of Physcial Activity Hours')"
      ]
     },
     "execution_count": 15,
     "metadata": {},
     "output_type": "execute_result"
    },
    {
     "data": {
      "image/png": "[encoded data removed]",
      "text/plain": [
       "<Figure size 640x480 with 1 Axes>"
      ]
     },
     "metadata": {},
     "output_type": "display_data"
    }
   ],
   "source": [
    "plt.hist(bins=30, x=df['Physical Activity (hrs/week)'])\n",
    "plt.xlabel('Physcial Activity Hours/week')\n",
    "plt.ylabel('Count of Physcial Activity Hours')"
   ]
  },
  {
   "cell_type": "code",
   "execution_count": 16,
   "id": "54b9dd39",
   "metadata": {
    "execution": {
     "iopub.execute_input": "2025-07-24T19:10:05.178264Z",
     "iopub.status.busy": "2025-07-24T19:10:05.177940Z",
     "iopub.status.idle": "2025-07-24T19:10:05.391769Z",
     "shell.execute_reply": "2025-07-24T19:10:05.390734Z"
    },
    "papermill": {
     "duration": 0.225645,
     "end_time": "2025-07-24T19:10:05.393420",
     "exception": false,
     "start_time": "2025-07-24T19:10:05.167775",
     "status": "completed"
    },
    "tags": []
   },
   "outputs": [
    {
     "data": {
      "text/plain": [
       "Text(0, 0.5, 'Count of Caffeine')"
      ]
     },
     "execution_count": 16,
     "metadata": {},
     "output_type": "execute_result"
    },
    {
     "data": {
      "image/png": "[encoded data removed]",
      "text/plain": [
       "<Figure size 640x480 with 1 Axes>"
      ]
     },
     "metadata": {},
     "output_type": "display_data"
    }
   ],
   "source": [
    "plt.hist(bins=30, x=df['Caffeine Intake (mg/day)'])\n",
    "plt.xlabel('Caffeine Intake (mg/day)')\n",
    "plt.ylabel('Count of Caffeine')"
   ]
  },
  {
   "cell_type": "code",
   "execution_count": 17,
   "id": "9680cada",
   "metadata": {
    "execution": {
     "iopub.execute_input": "2025-07-24T19:10:05.415151Z",
     "iopub.status.busy": "2025-07-24T19:10:05.414718Z",
     "iopub.status.idle": "2025-07-24T19:10:05.626871Z",
     "shell.execute_reply": "2025-07-24T19:10:05.625920Z"
    },
    "papermill": {
     "duration": 0.225127,
     "end_time": "2025-07-24T19:10:05.628589",
     "exception": false,
     "start_time": "2025-07-24T19:10:05.403462",
     "status": "completed"
    },
    "tags": []
   },
   "outputs": [
    {
     "data": {
      "text/plain": [
       "Text(0, 0.5, 'Count of Caffeine')"
      ]
     },
     "execution_count": 17,
     "metadata": {},
     "output_type": "execute_result"
    },
    {
     "data": {
      "image/png": "[encoded data removed]",
      "text/plain": [
       "<Figure size 640x480 with 1 Axes>"
      ]
     },
     "metadata": {},
     "output_type": "display_data"
    }
   ],
   "source": [
    "plt.hist(bins=30, x=df['Heart Rate (bpm)'])\n",
    "plt.xlabel('Caffeine Intake (mg/day)')\n",
    "plt.ylabel('Count of Caffeine')"
   ]
  },
  {
   "cell_type": "code",
   "execution_count": 18,
   "id": "855c6397",
   "metadata": {
    "execution": {
     "iopub.execute_input": "2025-07-24T19:10:05.650567Z",
     "iopub.status.busy": "2025-07-24T19:10:05.650256Z",
     "iopub.status.idle": "2025-07-24T19:10:05.845221Z",
     "shell.execute_reply": "2025-07-24T19:10:05.844130Z"
    },
    "papermill": {
     "duration": 0.208262,
     "end_time": "2025-07-24T19:10:05.847005",
     "exception": false,
     "start_time": "2025-07-24T19:10:05.638743",
     "status": "completed"
    },
    "tags": []
   },
   "outputs": [
    {
     "data": {
      "text/plain": [
       "Text(0, 0.5, 'Count of Caffeine')"
      ]
     },
     "execution_count": 18,
     "metadata": {},
     "output_type": "execute_result"
    },
    {
     "data": {
      "image/png": "[encoded data removed]",
      "text/plain": [
       "<Figure size 640x480 with 1 Axes>"
      ]
     },
     "metadata": {},
     "output_type": "display_data"
    }
   ],
   "source": [
    "plt.hist(x=df['Breathing Rate (breaths/min)'])\n",
    "plt.xlabel('Caffeine Intake (mg/day)')\n",
    "plt.ylabel('Count of Caffeine')"
   ]
  },
  {
   "cell_type": "code",
   "execution_count": 19,
   "id": "d4eb3330",
   "metadata": {
    "execution": {
     "iopub.execute_input": "2025-07-24T19:10:05.873093Z",
     "iopub.status.busy": "2025-07-24T19:10:05.872725Z",
     "iopub.status.idle": "2025-07-24T19:10:06.053239Z",
     "shell.execute_reply": "2025-07-24T19:10:06.052153Z"
    },
    "papermill": {
     "duration": 0.195351,
     "end_time": "2025-07-24T19:10:06.054853",
     "exception": false,
     "start_time": "2025-07-24T19:10:05.859502",
     "status": "completed"
    },
    "tags": []
   },
   "outputs": [
    {
     "data": {
      "text/plain": [
       "Text(0, 0.5, 'Count of Caffeine')"
      ]
     },
     "execution_count": 19,
     "metadata": {},
     "output_type": "execute_result"
    },
    {
     "data": {
      "image/png": "[encoded data removed]",
      "text/plain": [
       "<Figure size 640x480 with 1 Axes>"
      ]
     },
     "metadata": {},
     "output_type": "display_data"
    }
   ],
   "source": [
    "plt.hist(x=df['Therapy Sessions (per month)'])\n",
    "plt.xlabel('Caffeine Intake (mg/day)')\n",
    "plt.ylabel('Count of Caffeine')"
   ]
  },
  {
   "cell_type": "code",
   "execution_count": 20,
   "id": "66bea6bb",
   "metadata": {
    "execution": {
     "iopub.execute_input": "2025-07-24T19:10:06.084000Z",
     "iopub.status.busy": "2025-07-24T19:10:06.081567Z",
     "iopub.status.idle": "2025-07-24T19:10:06.267304Z",
     "shell.execute_reply": "2025-07-24T19:10:06.265966Z"
    },
    "papermill": {
     "duration": 0.202361,
     "end_time": "2025-07-24T19:10:06.269220",
     "exception": false,
     "start_time": "2025-07-24T19:10:06.066859",
     "status": "completed"
    },
    "tags": []
   },
   "outputs": [
    {
     "data": {
      "image/png": "[encoded data removed]",
      "text/plain": [
       "<Figure size 800x500 with 1 Axes>"
      ]
     },
     "metadata": {},
     "output_type": "display_data"
    }
   ],
   "source": [
    "most_occupied_jobs = df['Occupation'].value_counts().head()\n",
    "plt.figure(figsize=(8, 5))\n",
    "plt.bar(most_occupied_jobs.index, most_occupied_jobs.values)\n",
    "plt.title('Top 5 Most Common Occupations')\n",
    "plt.xlabel('Occupation')\n",
    "plt.ylabel('Count')\n",
    "plt.tight_layout()\n",
    "plt.show()"
   ]
  },
  {
   "cell_type": "code",
   "execution_count": 21,
   "id": "7a81aad7",
   "metadata": {
    "execution": {
     "iopub.execute_input": "2025-07-24T19:10:06.297825Z",
     "iopub.status.busy": "2025-07-24T19:10:06.296513Z",
     "iopub.status.idle": "2025-07-24T19:10:06.310566Z",
     "shell.execute_reply": "2025-07-24T19:10:06.309517Z"
    },
    "papermill": {
     "duration": 0.030464,
     "end_time": "2025-07-24T19:10:06.312641",
     "exception": false,
     "start_time": "2025-07-24T19:10:06.282177",
     "status": "completed"
    },
    "tags": []
   },
   "outputs": [
    {
     "name": "stdout",
     "output_type": "stream",
     "text": [
      "(5587, 19)\n",
      "(5413, 19)\n"
     ]
    }
   ],
   "source": [
    "print(df[df['Alcohol Consumption (drinks/week)'] > df['Alcohol Consumption (drinks/week)'].mean()].shape)\n",
    "print(df[df['Alcohol Consumption (drinks/week)'] < df['Alcohol Consumption (drinks/week)'].mean()].shape)"
   ]
  },
  {
   "cell_type": "code",
   "execution_count": null,
   "id": "8d29058d",
   "metadata": {
    "papermill": {
     "duration": 0.012765,
     "end_time": "2025-07-24T19:10:06.338326",
     "exception": false,
     "start_time": "2025-07-24T19:10:06.325561",
     "status": "completed"
    },
    "tags": []
   },
   "outputs": [],
   "source": []
  }
 ],
 "metadata": {
  "kaggle": {
   "accelerator": "none",
   "dataSources": [
    {
     "datasetId": 6931996,
     "sourceId": 11117616,
     "sourceType": "datasetVersion"
    }
   ],
   "dockerImageVersionId": 31089,
   "isGpuEnabled": false,
   "isInternetEnabled": true,
   "language": "python",
   "sourceType": "notebook"
  },
  "kernelspec": {
   "display_name": "Python 3",
   "language": "python",
   "name": "python3"
  },
  "language_info": {
   "codemirror_mode": {
    "name": "ipython",
    "version": 3
   },
   "file_extension": ".py",
   "mimetype": "text/x-python",
   "name": "python",
   "nbconvert_exporter": "python",
   "pygments_lexer": "ipython3",
   "version": "3.11.13"
  },
  "papermill": {
   "default_parameters": {},
   "duration": 14.542422,
   "end_time": "2025-07-24T19:10:07.173298",
   "environment_variables": {},
   "exception": null,
   "input_path": "__notebook__.ipynb",
   "output_path": "__notebook__.ipynb",
   "parameters": {},
   "start_time": "2025-07-24T19:09:52.630876",
   "version": "2.6.0"
  }
 },
 "nbformat": 4,
 "nbformat_minor": 5
}
